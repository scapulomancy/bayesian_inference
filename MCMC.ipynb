{
 "cells": [
  {
   "cell_type": "markdown",
   "metadata": {},
   "source": [
    " # Bayesian inference and MCMC : my understanding of the theory explained with Python scripts\n"
   ]
  },
  {
   "cell_type": "markdown",
   "metadata": {},
   "source": [
    "Some basics to have to follow this tutorial :\n",
    "- Basic python skills\n",
    "- Probabilities : density function\n",
    "- Other maths : integrals\n",
    "\n",
    "Disclaimer : I am not an expert in math, this tutorial may help you understand MCMC and Bayesian inference but will not be a sound basis to understand the mathematical theory or Markov Chains or any other stuff."
   ]
  },
  {
   "cell_type": "code",
   "execution_count": 63,
   "metadata": {},
   "outputs": [],
   "source": [
    "# Some libraries \n",
    "\n",
    "import numpy as np\n",
    "import matplotlib.pyplot as plt\n",
    "from scipy.stats import uniform, expon, norm, multivariate_normal, truncnorm\n",
    "import time\n",
    "from markov import MarkovChain # Find at https://github.com/NaysanSaran/markov-chain\n",
    "import seaborn as sns\n",
    "import pandas as pd"
   ]
  },
  {
   "cell_type": "markdown",
   "metadata": {},
   "source": [
    "## A. Introduction to Bayesian inference\n",
    "\n",
    "Inspired by the course of M.L. Delignette-Muller \"Introduction to Bayesian Inference\" for VetAgroSup."
   ]
  },
  {
   "cell_type": "markdown",
   "metadata": {},
   "source": [
    "### 1. Bayesian inference  vs Frequentist inference\n",
    "This part will not be exhaustive at all, it is a subject prone to debate."
   ]
  },
  {
   "cell_type": "markdown",
   "metadata": {},
   "source": [
    "Different views of what is a probability :\n",
    "- In a frequentist perspective, the probability of an event is defined as the fraction of times that the event occurs in a very large number of trials.\n",
    "- In a bayesian prespective, the probability is seen as a degree of belief, a measure of uncertainty.\n",
    "\n",
    "Inference refers to the fit of the model to the data. The model refers to a process that generates observed data Y. It could depend on known covariates X. For example the most simple model will be Y=X. But usually a model will have a stochastic part as well as unknown parameters $\\theta$. The goal of inference will be to estimate $\\theta$.\n",
    "\n",
    "- For frequentist inference : the parameter $\\theta$ is assumed fixed but unknown. It is estimated using methods like :\n",
    "    - Moment matching\n",
    "    - Maximum likelihood\n",
    "    - Sum of squared deviations minimization \n",
    "- Bayesian inference : the parameter $\\theta$ is supposed uncertain and its uncertainty is characerized by a probability distribution (a degree of belief). This distribution is estimated using Bayes theorem.\n",
    "\n",
    "#### Frequentist inference : confidence interval and p-value\n",
    "\n",
    "Three results are of interest for frequentist inference :\n",
    "- The point estimate\n",
    "- the confidence interval\n",
    "- hypothesis test with p-value\n",
    "\n",
    "The **confidence interval** is based on imagining repeated sampling from the model. If we repeatedly obtained samples of size n from the population and constructed a 95% confidence interval for each, we could expect 95% of the intervals to contain the true value of the parameter. Note that it does not mean that it does not mean that the parameter has a 95% chance of being in the interval as precisely in the frequentist framework, such probability does not exists. **p-value** will not be discussed here, but the interpretation of p-values must be very careful and the intepretation is not straightforward. \n",
    "\n",
    "#### Bayesian inference : distribution and credible interval\n",
    "\n",
    "The Bayesian inference obtains a posterior distribution of $\\theta$.\n",
    "\n",
    "To obtain a point estimate of the parameters, we would consider the mean or the median for example. Credible intervals (sometimes loosly refered to as confidence interval) are drawn from the posterior distribution quantiles. It is easier to interpret than a confidence interval. \n",
    "\n",
    "There is no need to have an equivalent of hypothesis testing. The distributions carries all the information we could need about the uncertainty of our estimation.\n"
   ]
  },
  {
   "cell_type": "markdown",
   "metadata": {},
   "source": [
    "### 2. Bayesian inference in practice"
   ]
  },
  {
   "cell_type": "markdown",
   "metadata": {},
   "source": [
    "First we need a prior distributions P($\\theta$). Let's note here that P will be a density in our case. If you have no information about the prior, distributions like the uniform distributions are considered uninformative. Then you can apply the Bayes formula to obtain the posterior distribution :\n",
    "\n",
    "$$P(\\theta \\mid Y)=\\frac{P(Y \\mid \\theta) \\times P(\\theta)}{P(Y)} \\propto P(Y \\mid \\theta) \\times P(\\theta)$$\n",
    "\n",
    "An analytical result only exists in some cases. It is the reason why it is hard for most cases to apply Bayesian inference. MCMC allows to draw samples from complex analytical expressions. \n",
    "\n",
    "- $P(Y \\mid \\theta)$ is the likelihood\n",
    "- $P(\\theta)$ is the prior\n",
    "- $P(Y)$ is the evidence but it is not necessary to compute it since it is a constant.\n",
    "- $P(\\theta \\mid Y)$ is the posterior distribution we want to obtain\n",
    "\n",
    "An interesting mecanism of bayesian inference is that if we have the data Y = [y1, ..., yn] and if we alread have the posterior $P(\\theta \\mid [y2, ...,yn])$ : \n",
    "$$P(\\theta \\mid Y) \\propto P(y1 \\mid \\theta) \\times P(\\theta \\mid [y2, ...,yn])$$\n",
    "\n",
    "This formula means that we can iterate by considering our posterior as our new prior. \n",
    "\n",
    "Another way to see it is that the likelihood is : $P(Y \\mid \\theta)=\\prod_i P(yi \\mid \\theta)$"
   ]
  },
  {
   "cell_type": "markdown",
   "metadata": {},
   "source": [
    "#### Example of bayesian inference\n",
    "\n",
    "This example is copied from : https://datapythonista.me/blog/bayesian-inference-tutorial-a-hello-world-example.html\n",
    "\n",
    "The problem is to approximate the mean and the variance of a normal law that represent the distribution of heights in a human population like say for example pyton programmers. We have the data points : [183, 168, 177, 170, 175, 177, 178, 166, 174, 178].\n",
    "\n",
    "In this case, we have directly the likelihood for one measure. It is our model.\n",
    "\n",
    "$$P(x \\mid \\mu, \\sigma)=\\frac{1}{\\sqrt{2 \\pi \\sigma^{2}}} \\cdot e^{-\\frac{(x-\\mu)^{2}}{2 \\sigma^{2}}}$$\n",
    "\n",
    "An example of prior could be based on the world population :\n",
    "- uniform [0,300] for mean\n",
    "- uniform [2,20] for std\n",
    "\n",
    "We can obtain a first posterior evaluation for a theta with : $$P(\\mu, \\sigma \\mid x1) \\propto P(x1 \\mid \\mu, \\sigma)P(\\mu, \\sigma)$$\n",
    "\n",
    "Then we iterate to obtain : $$P(\\mu, \\sigma \\mid x1,x2) \\propto P(x2 \\mid \\mu, \\sigma)P(\\mu, \\sigma \\mid x1)$$\n",
    "\n",
    "We repeat this n times to only obtain one value of the posterior. As said before the other way to see this is that we compute the total likelihood like the product of the marginal likelihoods.\n",
    "\n",
    ">In general we can sum up the calculus of the posterior like this :\n",
    ">\n",
    ">$$P(\\theta \\mid Y) \\propto P(Y \\mid \\theta) \\times P(\\theta) = \\prod_i P(yi \\mid \\theta)\\times P(\\theta)$$\n",
    "\n",
    "In our case the expression of the likelihood is straightforward but it is not always the case. "
   ]
  },
  {
   "cell_type": "code",
   "execution_count": 137,
   "metadata": {},
   "outputs": [],
   "source": [
    "data_h = np.array([183, 168, 177, 170, 175, 177, 178, 166, 174, 178])\n",
    "\n",
    "def get_posterior(theta, data_h, prior, likelihood):\n",
    "    posterior = prior(theta)\n",
    "    likelihoods = likelihood(data_h, theta)\n",
    "    for i in range(len(data_h)):\n",
    "        posterior = likelihoods[i]*posterior\n",
    "    return posterior\n",
    "\n",
    "def compute_posteriors(mu_candidates, sigma_candidates, data_h, prior, likelihood):\n",
    "    for mu in mu_candidates:\n",
    "        for sigma in sigma_candidates:\n",
    "            yield mu, sigma, get_posterior([mu, sigma], data_h, prior, likelihood)\n",
    "\n",
    "def normalize(res):\n",
    "    res['posterior'] = res['posterior']/res['posterior'].sum()\n",
    "    return res\n",
    "    \n",
    "\n",
    "def get_heatmap(res):\n",
    "    results = pd.DataFrame(res, columns=('mu', 'sigma', 'posterior')).set_index(['mu', 'sigma'])\n",
    "    res = np.array(res)\n",
    "    mu = res[:,0]\n",
    "    sigma = res[:,1]\n",
    "    posterior = res[:,2]\n",
    "    mu_mean, sigma_mean = np.average(mu,weights=posterior),np.average(sigma,weights=posterior)\n",
    "    results = normalize(results)['posterior']\n",
    "    mu_max,sigma_max = results.idxmax()\n",
    "    max_posterior = results[(mu_max,sigma_max)]\n",
    "    print('mu(max_posterior) : {}'.format(mu_max))\n",
    "    print('sigma(max_posterior) : {}'.format(sigma_max))\n",
    "    print('mu_mean = {}'.format(mu_mean))\n",
    "    print('sigma_mean = {}'.format(sigma_mean))\n",
    "    print('max_posterior : {}'.format(max_posterior))\n",
    "    heatmap_results = results.unstack(-1)\n",
    "    heatmap_results.index = heatmap_results.index.astype(int)\n",
    "    heatmap_results = heatmap_results.T\n",
    "    heatmap_results.index = heatmap_results.index.astype(int)\n",
    "    return heatmap_results"
   ]
  },
  {
   "cell_type": "markdown",
   "metadata": {},
   "source": [
    "Here are three choices of priors. prior1 and prior1ter are good choices but prior1bis is a bad choice because we give too much confidence in probably false information (the prior for the mean indicates that it almost sure that the mean is 165). "
   ]
  },
  {
   "cell_type": "code",
   "execution_count": 138,
   "metadata": {},
   "outputs": [],
   "source": [
    "def prior1(theta):\n",
    "    return uniform.pdf(theta[0],loc=100,scale=100)*uniform.pdf(theta[1],loc=2,scale=12)\n",
    "\n",
    "def prior1bis(theta):\n",
    "    return norm.pdf(theta[0],loc=165,scale=1)*uniform.pdf(theta[1],loc=2,scale=12)\n",
    "\n",
    "def prior1ter(theta):\n",
    "    return norm.pdf(theta[0],loc=165,scale=14)*uniform.pdf(theta[1],loc=2,scale=12)\n",
    "\n",
    "def likelihood1(h, theta):\n",
    "    return norm.pdf(h,loc=theta[0],scale=theta[1])"
   ]
  },
  {
   "cell_type": "code",
   "execution_count": 125,
   "metadata": {},
   "outputs": [
    {
     "data": {
      "text/plain": [
       "8.767348018647538e-21"
      ]
     },
     "execution_count": 125,
     "metadata": {},
     "output_type": "execute_result"
    }
   ],
   "source": [
    "get_posterior([165,8], data_h,prior1, likelihood1)"
   ]
  },
  {
   "cell_type": "markdown",
   "metadata": {},
   "source": [
    "Our strategy here will be to compute the value of the posteriori function on a grid of values of the parameters. An issue of this method is we don't really have any mean to know how to define this grid.  The size of the grid can be too much to compute. \n",
    "\n",
    "A logical choice for the grid could be to make it correspond our prior. In the case of a finite support for the prior density (like a uniform density), it is straightforward. In the other case (infinite support), the representation of the density will be truncated by the choice of our grid. \n",
    "\n",
    "In our case we will choose a grid that corresponds to out first prior prior1."
   ]
  },
  {
   "cell_type": "code",
   "execution_count": 140,
   "metadata": {},
   "outputs": [
    {
     "name": "stdout",
     "output_type": "stream",
     "text": [
      "6.284130334854126\n",
      "mu(max_posterior) : 174.3718592964824\n",
      "sigma(max_posterior) : 4.954773869346734\n",
      "mu_mean = 174.5999999999147\n",
      "sigma_mean = 6.084374303458606\n",
      "max_posterior : 0.002180681040617771\n"
     ]
    },
    {
     "data": {
      "image/png": "[encoded data removed]",
      "text/plain": [
       "<Figure size 432x288 with 1 Axes>"
      ]
     },
     "metadata": {
      "needs_background": "light"
     },
     "output_type": "display_data"
    }
   ],
   "source": [
    "mu_candidates = np.linspace(100,200,200)\n",
    "sigma_candidates = np.linspace(2,14,200)\n",
    "t = time.time()\n",
    "results1 = list(compute_posteriors(mu_candidates, sigma_candidates, data_h, prior1, likelihood1))\n",
    "print(time.time()-t)\n",
    "h1 = get_heatmap(results1)\n",
    "sns.heatmap(h1,xticklabels=18,yticklabels=40,cbar=False)\n",
    "plt.show()"
   ]
  },
  {
   "cell_type": "markdown",
   "metadata": {},
   "source": [
    "We can see a bad prior influence on the result for results2 (with prior1bis). Here our normal prior for the mean is very informative (with a variance of 1 for the prior normal law for the mean). In this case do not confuse the variance of the mean's prior normal law and the variance of the normal law describing the distribution of heights."
   ]
  },
  {
   "cell_type": "code",
   "execution_count": 141,
   "metadata": {},
   "outputs": [
    {
     "name": "stdout",
     "output_type": "stream",
     "text": [
      "6.401662349700928\n",
      "mu(max_posterior) : 165.8291457286432\n",
      "sigma(max_posterior) : 10.080402010050252\n",
      "mu_mean = 165.88015342638164\n",
      "sigma_mean = 10.420187716145758\n",
      "max_posterior : 0.0023535275079086372\n"
     ]
    },
    {
     "data": {
      "image/png": "[encoded data removed]",
      "text/plain": [
       "<Figure size 432x288 with 1 Axes>"
      ]
     },
     "metadata": {
      "needs_background": "light"
     },
     "output_type": "display_data"
    }
   ],
   "source": [
    "t = time.time()\n",
    "results2 = list(compute_posteriors(mu_candidates, sigma_candidates, data_h, prior1bis, likelihood1))\n",
    "print(time.time()-t)\n",
    "h2 = get_heatmap(results2)\n",
    "sns.heatmap(h2,xticklabels=18,yticklabels=40,cbar=False)\n",
    "plt.show()"
   ]
  },
  {
   "cell_type": "markdown",
   "metadata": {},
   "source": [
    "Here is a less informative prior but that does not conveys false information (but it is still nonetheless more informative than the prior1). "
   ]
  },
  {
   "cell_type": "code",
   "execution_count": 142,
   "metadata": {},
   "outputs": [
    {
     "name": "stdout",
     "output_type": "stream",
     "text": [
      "6.611626386642456\n",
      "mu(max_posterior) : 174.3718592964824\n",
      "sigma(max_posterior) : 4.954773869346734\n",
      "mu_mean = 174.4103834766401\n",
      "sigma_mean = 6.078988272137783\n",
      "max_posterior : 0.002216768096647653\n"
     ]
    },
    {
     "data": {
      "image/png": "[encoded data removed]",
      "text/plain": [
       "<Figure size 432x288 with 1 Axes>"
      ]
     },
     "metadata": {
      "needs_background": "light"
     },
     "output_type": "display_data"
    }
   ],
   "source": [
    "t = time.time()\n",
    "results3= list(compute_posteriors(mu_candidates, sigma_candidates, data_h, prior1ter, likelihood1))\n",
    "print(time.time()-t)\n",
    "h3= get_heatmap(results3)\n",
    "sns.heatmap(h3,xticklabels=18,yticklabels=40,cbar=False)\n",
    "plt.show()"
   ]
  },
  {
   "cell_type": "markdown",
   "metadata": {},
   "source": [
    "In general bayesian inference efficiency will depend on :\n",
    "- the choice of the prior : subjective choice\n",
    "- the complexity to compute the posteriori : depends on the size of the data and the complexity of the likelihood function\n",
    "\n",
    "The efficiency of the grid method can be judged through :\n",
    "- the resolution of our grid : it means a more precise representation of the posteriori density but more calculus.\n",
    "- the extension of the grid : the choice is as subjective as the choice of the prior, to be careful you have to choose a large grid but it also means that you will need a greater resolution to capture the form of the density (so more calculus).\n",
    "\n",
    "In our case : we had to calculate $200*200=40000$ posteriors. Let's note that a solution to avoid the problems of the grid methods (choice of grid and resolution), an alternative is to sample from the prior distribution. The indicated method for this MCMC, we will see why in the following part. "
   ]
  },
  {
   "cell_type": "markdown",
   "metadata": {},
   "source": [
    "#### Comparison with frequentist inference\n",
    "\n",
    "We are going to maximize the likelihood. We can very simply derive the maximum likelihood from our bayesian inference with a uniform prior. In deed, in the case of uniform prior, the maximum a posteriori is equal to maximum likelihood estimator. \n",
    "\n",
    "$$\\text{max}_{\\theta}(P(Y \\mid \\theta))=\\text{max}_{\\theta}(P(\\theta \\mid Y))$$ \n",
    "\n",
    "Let's note that there are more rapid means to obtain the maximum likelihood by doing a gradient descent. So frequentist will be more rapid than bayesian inference. "
   ]
  },
  {
   "cell_type": "markdown",
   "metadata": {},
   "source": [
    "##### Credible vs Confidence interval\n",
    "\n",
    "TODO"
   ]
  },
  {
   "cell_type": "markdown",
   "metadata": {},
   "source": [
    "### 3. Conclusion\n",
    "\n",
    "> Important points : \n",
    "> - Bayesian posteriors have complex expressions and it hard to know on what domain and in which resolution to compute it : Sampling is the solution we will describe after with MCMC. \n",
    "> - Frequentist and bayesian inference differences : bayesian inference yields a distribution which is versatile and easy to interpret and frequentist yields a point estimate + confidence intervals and hypothesis testing. \n",
    "> - Frequentist and bayesian inference similitudes : in the case of a uniform prior in bayesian MAP (maximum a posteriori) and MLE (maximum likelihood estimator) are equal.\n",
    "\n",
    "Why we need MCMC ? With the 2D $\\theta$ considered here, the times of calculus are not yet prohibitive. But imagine, we have 10 dimensions and we want a resolution of 200 in each dimensions, we will have $200^{8}$ times more important calculus time. (We have here 10 seconds of calculus, so with a 10 dimensions $\\theta$, it will be approximately 8 trillions of centuries to finish our calculus)."
   ]
  },
  {
   "cell_type": "markdown",
   "metadata": {},
   "source": [
    "## B. Understanding the Metropolis-Hastings Algorithm\n",
    "\n",
    "Based on the paper \"Understanding the Metropolis-Hastings Algorithm\" by Siddhartha CHIBand Edward GREENBERG"
   ]
  },
  {
   "cell_type": "markdown",
   "metadata": {},
   "source": [
    "### 1. Definition of a probability density"
   ]
  },
  {
   "cell_type": "markdown",
   "metadata": {},
   "source": [
    "According to [Wikipedia](https://en.wikipedia.org/wiki/Probability_density_function)\n",
    "\n",
    "A probability density function is most commonly associated with absolutely continuous univariate distributions. A random variable X has density $f_X$, where $f_X$ is a non-negative Lebesgue-integrable function, if:\n",
    "$\\operatorname{Pr}[a \\leq X \\leq b]=\\int_{a}^{b} f_{X}(x) d x$"
   ]
  },
  {
   "cell_type": "markdown",
   "metadata": {},
   "source": [
    "### 2. Acceptance-rejection sampling\n",
    "The objective is to generate samples from the absolutely continuous target density : $\\pi(x)=f(x)/K$. Where f is an unnormalized density and K an unknown constant. \n",
    "The only thing needed is knowing a density h(x) that can be simulated such that it exists c so that $f(x)<=ch(x)$. Then the algorithm is the following. It is not trivial to obtain the domination condition !"
   ]
  },
  {
   "cell_type": "code",
   "execution_count": 8,
   "metadata": {},
   "outputs": [],
   "source": [
    "def ar_sample(f,h,sample_h,c):\n",
    "    z = sample_h()\n",
    "    u = uniform.rvs()\n",
    "    if u<=f(z)/(c*h(z)):\n",
    "        return z\n",
    "    else:\n",
    "        return ar_sample(f,h,sample_h,c)\n",
    "        \n",
    "def ar_samples(f,h,sample_h,c,n):\n",
    "    samples = []\n",
    "    for i in range(n):\n",
    "        samples += [ar_sample(f,h,sample_h,c)]\n",
    "    return samples"
   ]
  },
  {
   "cell_type": "markdown",
   "metadata": {},
   "source": [
    "An important implication of the dominance condition is that f and h should be defined on the same domains. For finite domain functions, it is easy to find a working h function (we know how to sample from a uniform distribution for example)."
   ]
  },
  {
   "cell_type": "markdown",
   "metadata": {},
   "source": [
    "#### Generate samples without A/R"
   ]
  },
  {
   "cell_type": "markdown",
   "metadata": {},
   "source": [
    "Before using A/R, we saw that we had to know how to sample from a known distribution that is dominant.  We are going to assume here that we know how to sample from a uniform distribution and an exponential distribution. "
   ]
  },
  {
   "cell_type": "markdown",
   "metadata": {},
   "source": [
    "#### Simulation of a finite defintion domain density knowing how to sample from a uniform density : triangle distribution\n",
    "We are going to sample from a triangle distribution assuming we know how to sample from a uniform distribution with scipy.stats.uniform."
   ]
  },
  {
   "cell_type": "code",
   "execution_count": 9,
   "metadata": {},
   "outputs": [],
   "source": [
    "def custom_triangular(x,a,b,m):\n",
    "    if a<m<b:\n",
    "        if x<a or x>b:\n",
    "            return 0\n",
    "        elif x<=m:\n",
    "            return (x-a)/(m-a)\n",
    "        else:\n",
    "            return (x-b)/(m-b)\n",
    "    else:\n",
    "        raise Exception('Not a<m<b !')"
   ]
  },
  {
   "cell_type": "markdown",
   "metadata": {},
   "source": [
    "In this example the distribution will be normalized. It allows us to check if the sampling is correct with a density plot. For unnormalized functions, some functions canbe normalized by explicitly calculating the integral or by calclating the integral with Monte-Carlwhich is quite simple. "
   ]
  },
  {
   "cell_type": "code",
   "execution_count": 10,
   "metadata": {},
   "outputs": [],
   "source": [
    "t1 = lambda x : custom_triangular(x,a=0,b=2,m=1)"
   ]
  },
  {
   "cell_type": "code",
   "execution_count": 11,
   "metadata": {},
   "outputs": [
    {
     "data": {
      "text/plain": [
       "[<matplotlib.lines.Line2D at 0x2402941a910>]"
      ]
     },
     "execution_count": 11,
     "metadata": {},
     "output_type": "execute_result"
    },
    {
     "data": {
      "image/png": "[encoded data removed]",
      "text/plain": [
       "<Figure size 432x288 with 1 Axes>"
      ]
     },
     "metadata": {
      "needs_background": "light"
     },
     "output_type": "display_data"
    }
   ],
   "source": [
    "x = np.linspace(0,2,100)\n",
    "plt.plot(x, [t1(xi) for xi in x])"
   ]
  },
  {
   "cell_type": "code",
   "execution_count": 12,
   "metadata": {},
   "outputs": [],
   "source": [
    "h1 = lambda x : uniform.pdf(x, loc=0, scale=2)\n",
    "sample_h1 = lambda : uniform.rvs(loc=0, scale=2)\n",
    "c1 = 2\n",
    "s = ar_samples(t1, h1, sample_h1,c1,10000)"
   ]
  },
  {
   "cell_type": "code",
   "execution_count": 13,
   "metadata": {},
   "outputs": [
    {
     "data": {
      "text/plain": [
       "[<matplotlib.lines.Line2D at 0x24027e4fd90>]"
      ]
     },
     "execution_count": 13,
     "metadata": {},
     "output_type": "execute_result"
    },
    {
     "data": {
      "image/png": "[encoded data removed]",
      "text/plain": [
       "<Figure size 432x288 with 1 Axes>"
      ]
     },
     "metadata": {
      "needs_background": "light"
     },
     "output_type": "display_data"
    }
   ],
   "source": [
    "plt.hist(s, bins=50, density=True)\n",
    "plt.plot(x, [t1(xi) for xi in x])"
   ]
  },
  {
   "cell_type": "markdown",
   "metadata": {},
   "source": [
    "The choice of c can be important. If c doesn't respect the condition of dominance, the sampling is wrong. And if c is much larger that it could be, there will be more rejections and thus the algorithm will generate the the sample more slowly. "
   ]
  },
  {
   "cell_type": "code",
   "execution_count": 14,
   "metadata": {},
   "outputs": [
    {
     "data": {
      "text/plain": [
       "[<matplotlib.lines.Line2D at 0x24027e67ca0>]"
      ]
     },
     "execution_count": 14,
     "metadata": {},
     "output_type": "execute_result"
    },
    {
     "data": {
      "image/png": "[encoded data removed]",
      "text/plain": [
       "<Figure size 432x288 with 1 Axes>"
      ]
     },
     "metadata": {
      "needs_background": "light"
     },
     "output_type": "display_data"
    }
   ],
   "source": [
    "c1 = 1\n",
    "t = time.time()\n",
    "s = ar_samples(t1, h1, sample_h1,c1,10000)\n",
    "plt.hist(s, bins=50, density=True)\n",
    "plt.plot(x, [t1(xi) for xi in x])"
   ]
  },
  {
   "cell_type": "code",
   "execution_count": 15,
   "metadata": {},
   "outputs": [
    {
     "name": "stdout",
     "output_type": "stream",
     "text": [
      "Time : 2.172959566116333\n",
      "Time : 4.296980857849121\n"
     ]
    }
   ],
   "source": [
    "c1 = 2\n",
    "t = time.time()\n",
    "s = ar_samples(t1, h1, sample_h1,c1,10000)\n",
    "print('Time : {}'.format(time.time()-t))\n",
    "c1 = 4\n",
    "t = time.time()\n",
    "s = ar_samples(t1, h1, sample_h1,c1,10000)\n",
    "print('Time : {}'.format(time.time()-t))"
   ]
  },
  {
   "cell_type": "markdown",
   "metadata": {},
   "source": [
    "The optimal choice for c is $\\sup _{x} \\frac{f(x)}{h(x)}$."
   ]
  },
  {
   "cell_type": "markdown",
   "metadata": {},
   "source": [
    "#### Simulation of a non-finite defintion domain density knowing how to sample from an exponential : normal distribution\n",
    "We are going to sample from a N(0,1) assuming we know how to sample from an exponential distribution with density $e^{-x}$ with scipy.stats.expon. To obtain any normal distribution we can simply multiply the samples to multiply the variance and add a constant to the sample to add it to the mean. \n",
    "By symmetry of the normal density, to generate samples we can generate a sample from :\n",
    "$f(x)=\\frac{2}{\\sqrt{2 \\pi}} e^{-x^{2} / 2}$ and then set the sign to - with probability 1/2.\n",
    "\n",
    "For c we have $g(x)=f(x)/f_{exp}(x)=e^{x-x^{2} / 2} \\sqrt{2 / \\pi}$. By finding the zero of the derivate of g, we have the maximum of g for x=1. So we have $c=g(1)=\\sqrt{2 e / \\pi}$"
   ]
  },
  {
   "cell_type": "code",
   "execution_count": 16,
   "metadata": {},
   "outputs": [],
   "source": [
    "const = np.sqrt(2*np.pi)\n",
    "n1 = lambda x : np.exp((-x**2)/2)*2/const"
   ]
  },
  {
   "cell_type": "code",
   "execution_count": 17,
   "metadata": {},
   "outputs": [
    {
     "data": {
      "text/plain": [
       "[<matplotlib.lines.Line2D at 0x24028e845b0>]"
      ]
     },
     "execution_count": 17,
     "metadata": {},
     "output_type": "execute_result"
    },
    {
     "data": {
      "image/png": "[encoded data removed]",
      "text/plain": [
       "<Figure size 432x288 with 1 Axes>"
      ]
     },
     "metadata": {
      "needs_background": "light"
     },
     "output_type": "display_data"
    }
   ],
   "source": [
    "x = np.linspace(0,5,100)\n",
    "plt.plot(x, [n1(xi) for xi in x])"
   ]
  },
  {
   "cell_type": "code",
   "execution_count": 18,
   "metadata": {},
   "outputs": [],
   "source": [
    "h2 = lambda x : expon.pdf(x)\n",
    "sample_h2 = lambda : expon.rvs()\n",
    "c2 = np.sqrt(2*np.e/np.pi)\n",
    "s = ar_samples(n1, h2, sample_h2,c2,10000)"
   ]
  },
  {
   "cell_type": "code",
   "execution_count": 19,
   "metadata": {},
   "outputs": [
    {
     "data": {
      "text/plain": [
       "[<matplotlib.lines.Line2D at 0x2402889ddf0>]"
      ]
     },
     "execution_count": 19,
     "metadata": {},
     "output_type": "execute_result"
    },
    {
     "data": {
      "image/png": "[encoded data removed]",
      "text/plain": [
       "<Figure size 432x288 with 1 Axes>"
      ]
     },
     "metadata": {
      "needs_background": "light"
     },
     "output_type": "display_data"
    }
   ],
   "source": [
    "plt.hist(s, bins=50, density=True)\n",
    "plt.plot(x, [n1(xi) for xi in x])"
   ]
  },
  {
   "cell_type": "markdown",
   "metadata": {},
   "source": [
    "To obtain the complete sample from N(a,b)"
   ]
  },
  {
   "cell_type": "code",
   "execution_count": 20,
   "metadata": {},
   "outputs": [],
   "source": [
    "def ar_sample_norm(a,b):\n",
    "    s = ar_sample(n1, h2, sample_h2,c2)\n",
    "    if uniform.rvs()<1/2:\n",
    "        return -b*el+a\n",
    "    else:\n",
    "        return b*el+a \n",
    "\n",
    "def ar_samples_norm(a,b,n):\n",
    "    s = ar_samples(n1, h2, sample_h2,c2,n)\n",
    "    return [-b*el+a if uniform.rvs()<1/2 else b*el+a for el in s]"
   ]
  },
  {
   "cell_type": "code",
   "execution_count": 21,
   "metadata": {},
   "outputs": [
    {
     "data": {
      "text/plain": [
       "1.5570766925811768"
      ]
     },
     "execution_count": 21,
     "metadata": {},
     "output_type": "execute_result"
    }
   ],
   "source": [
    "t = time.time()\n",
    "s = ar_samples_norm(2,1,10000)\n",
    "time.time()-t"
   ]
  },
  {
   "cell_type": "code",
   "execution_count": 22,
   "metadata": {},
   "outputs": [
    {
     "data": {
      "text/plain": [
       "[<matplotlib.lines.Line2D at 0x24028945a90>]"
      ]
     },
     "execution_count": 22,
     "metadata": {},
     "output_type": "execute_result"
    },
    {
     "data": {
      "image/png": "[encoded data removed]",
      "text/plain": [
       "<Figure size 432x288 with 1 Axes>"
      ]
     },
     "metadata": {
      "needs_background": "light"
     },
     "output_type": "display_data"
    }
   ],
   "source": [
    "plt.hist(s, bins=50, density=True)\n",
    "plt.plot(x, [norm.pdf(xi, loc=2, scale=1) for xi in x])"
   ]
  },
  {
   "cell_type": "markdown",
   "metadata": {},
   "source": [
    ">**A-R allows to sample from a density but it requires to know how to sample from another dominating density. Obtaining the dominance is not always easy as we will see.**"
   ]
  },
  {
   "cell_type": "markdown",
   "metadata": {},
   "source": [
    "### 3. Markov Chain Monte-Carlo : principle"
   ]
  },
  {
   "cell_type": "markdown",
   "metadata": {},
   "source": [
    "#### Markov chain"
   ]
  },
  {
   "cell_type": "markdown",
   "metadata": {},
   "source": [
    "A Markov chain or Markov process is a stochastic model describing a sequence of possible events in which the probability of each event depends only on the state attained in the previous event. (Source : [Wikipedia](https://en.wikipedia.org/wiki/Markov_chain)). Usually Markov chain refers to discrete time Markov chains with a discrete state space. A discrete time discrete state-space markov chain in determined by a stochastic matrix. For example we could imagine a dumb meteo model with a Markov chain model. Imagine there is a transition every day. Each transition has the probability. A remark is that the sum of transitions departing from one state is equal to one. "
   ]
  },
  {
   "cell_type": "code",
   "execution_count": 23,
   "metadata": {},
   "outputs": [
    {
     "data": {
      "image/png": "[encoded data removed]",
      "text/plain": [
       "<Figure size 720x432 with 1 Axes>"
      ]
     },
     "metadata": {
      "needs_background": "light"
     },
     "output_type": "display_data"
    }
   ],
   "source": [
    "# \"Dumb\" Markov Chain for the weather\n",
    "\n",
    "P = np.array([\n",
    "    [0.5, 0.4, 0.1],\n",
    "    [0.5, 0.3, 0.2],\n",
    "    [0.3, 0.6, 0.1],\n",
    "])\n",
    "mc = MarkovChain(P, ['Sunny', 'Rainy', 'Stormy']) # Thanks to Naysan Saran : https://github.com/NaysanSaran/markov-chain\n",
    "mc.draw()"
   ]
  },
  {
   "cell_type": "markdown",
   "metadata": {},
   "source": [
    "There has been a great deal of research concerning Markov Chains (discrete and other types) with a lot of interesting properties. We are not going here to write book of maths but rather try to develop an intuition on Markov Chain to use it for MCMC."
   ]
  },
  {
   "cell_type": "markdown",
   "metadata": {},
   "source": [
    "#### Continuous state-space Markov chains"
   ]
  },
  {
   "cell_type": "markdown",
   "metadata": {},
   "source": [
    "It is a bit more complicated case than the traditional discrete markov chain. The main difference is that the set of states is continuous. For example, in our last example we could go to any state between rainy and sunny. Let's note here that the time is still discrete ! It is only the state-space that has become continuous. One you understand this notations, you can have a sense of what is going on it a continuous state-space chain :\n",
    "- Instead of probabilities transition, we have a one step transition density function $p(x,y)$. For example the probability to transit to a state x to somewhere in a set A is $P(x,A)=\\int_{\\mathcal{A}}P(x, d y) dy$\n",
    "- We can define n-step transition densities (S is the entire space considered) : $p^{(n)}(x, y)=\\int_{\\mathcal{S}} p^{(m)}(x, z) \\cdot p^{(n-m)}(z, y) d z$ with $p^{(2)}(x, y)=\\int_{\\mathcal{S}} p(x, z) \\cdot p(z, y) d z$ and $p^{(1)}(x, y)=p(x,y)$. This formula gives the density when you go through n steps of the Markov chain. So the probability to go from x to somewhere in A after n steps of the Markov chain is simply : $P^{(n)}(x,A)=\\int_{\\mathcal{A}}P^{(n)}(x, d y) dy$\n",
    "\n",
    "As an example of a realization. Let's consider a the jumps of a frog. We can model that the length of the jumps are following a normal law. Then we have : $p(x, y)=\\frac{1}{\\sqrt{2 \\pi}} e^{-\\frac{1}{2 \\sigma^{2}}(y-x)^{2}}$.  "
   ]
  },
  {
   "cell_type": "code",
   "execution_count": 24,
   "metadata": {},
   "outputs": [
    {
     "data": {
      "text/plain": [
       "[<matplotlib.lines.Line2D at 0x240294c81f0>]"
      ]
     },
     "execution_count": 24,
     "metadata": {},
     "output_type": "execute_result"
    },
    {
     "data": {
      "image/png": "[encoded data removed]",
      "text/plain": [
       "<Figure size 432x288 with 1 Axes>"
      ]
     },
     "metadata": {
      "needs_background": "light"
     },
     "output_type": "display_data"
    }
   ],
   "source": [
    "def frog(initial_state, mu, sigma, n):\n",
    "    state = initial_state\n",
    "    realization = [initial_state]\n",
    "    for i in range(n):\n",
    "        jump = norm.rvs(scale=sigma, loc=mu)\n",
    "        state += jump\n",
    "        realization += [state]\n",
    "    return realization\n",
    "\n",
    "jumps = frog(0,0,1,2000)\n",
    "plt.plot(jumps)"
   ]
  },
  {
   "cell_type": "markdown",
   "metadata": {},
   "source": [
    ">**A markov chain is a stochastic process with description of the probability of transitions between states.**"
   ]
  },
  {
   "cell_type": "markdown",
   "metadata": {},
   "source": [
    "#### Convergence to invariant distributions\n",
    "##### Irreducible and aperiodic chains means convergence to a stationary distribution\n",
    "\n",
    "We are going to to consider the case of continuous state-space Markov chains in MCMC but our examples in this part will in the discrete case to illustrate.\n",
    "\n",
    "A Markov chain is defined by P(x,A) a transition kernel. It is the probability of moving from a point x to a point in the set A. For example if we are in R, P(x,R)=1 because there is a probability of 1 to move from x to another point in R. It is possible to move from x to {x}. "
   ]
  },
  {
   "cell_type": "markdown",
   "metadata": {},
   "source": [
    "It could be interesting to find an invariant distribution. An invariant distribution satisfies : $\\pi(y)=\\int_{\\mathcal{R}^{d}} P(x, y) \\pi(x) d x$. It can be shown that under some conditions, if we iterate the Markov Chain, it converges to the invariant distribution .  It is easier to understand this definition in its discrete version with a transition Matrix M. We have $\\pi$ the probabilities to transition to each state is invariant if $\\pi=\\pi M$. The condition to be sure that the chain will converge towards its stationnary distribution is that it is aperiodic and irreducible (from one state, you can go to any other state in a finite set of move). We have exactly the same conditions for the convergence to a stationary distribution in the continuous case."
   ]
  },
  {
   "cell_type": "markdown",
   "metadata": {},
   "source": [
    "For example in the discrete case with a Markov chain with a transition Matrix : \n",
    "\n",
    "$$\n",
    "M_0=\\left(\\begin{array}{ccccc}\n",
    "\\frac{1}{2} & 0 & 0 & 0 & \\frac{1}{2} \\\\\n",
    "0 & \\frac{1}{2} & 0 & \\frac{1}{2} & 0 \\\\\n",
    "0 & 0 & 1 & 0 & 0 \\\\\n",
    "0 & \\frac{1}{4} & \\frac{1}{4} & \\frac{1}{4} & \\frac{1}{4} \\\\\n",
    "\\frac{1}{2} & 0 & 0 & 0 & \\frac{1}{2}\n",
    "\\end{array}\\right)\n",
    "$$\n",
    "\n",
    "It can be proven solving the condition of invariance that : $\\pi=(a, 0, b, 0, a)$ with $2*a+b=1$.\n",
    "So we can deduce that the Markov chain will converge to a distribution of that type. If we look closely the Markov chain is stucked at state 0 and 4 or at state 2. So the two only possible converging invariant distribution are (1/2,0,0,0,1/2) and (0,0,1,0,0). It depends on the value of the first element. We have this kind of behavior because this finite Markov chain is reducible. "
   ]
  },
  {
   "cell_type": "markdown",
   "metadata": {},
   "source": [
    "Let's consider the following transition Matrix when it is aperiodic and irreducible. Basically, it means that all states are connected (the chain never remains stucked)\n",
    "\n",
    "$$\n",
    "M_1=\\left(\\begin{array}{ccccc}\n",
    "\\frac{1}{2} & 0 & \\frac{1}{4} & 0 & \\frac{1}{4} \\\\\n",
    "0 & \\frac{1}{2} & 0 & \\frac{1}{2} & 0 \\\\\n",
    "0 & 0 & \\frac{3}{4} & 0 & \\frac{1}{4} \\\\\n",
    "0 & \\frac{1}{4} & \\frac{1}{4} & \\frac{1}{4} & \\frac{1}{4} \\\\\n",
    "\\frac{1}{4} & 0 & \\frac{1}{4} & 0 & \\frac{1}{2}\n",
    "\\end{array}\\right)\n",
    "$$\n",
    "\n",
    "In this case, we observe that the chain converges each time to same stationnary distribution. We can see that because if we plot the empirical frequencies (histogram) we obtain almost the same probabilities for each state, it converges the same way for any starting state."
   ]
  },
  {
   "cell_type": "code",
   "execution_count": 25,
   "metadata": {},
   "outputs": [],
   "source": [
    "def iterate_markov(M, state):\n",
    "    elements = list(range(len(M)))\n",
    "    transitions = M[state]\n",
    "    return np.random.choice(elements, 1, p=transitions)[0]\n",
    "\n",
    "def n_iterate_markov(M, initial_state, n):\n",
    "    state = initial_state\n",
    "    states = [initial_state]\n",
    "    for i in range(n):\n",
    "        state = iterate_markov(M, state)\n",
    "        states += [state]\n",
    "    return states"
   ]
  },
  {
   "cell_type": "code",
   "execution_count": 26,
   "metadata": {
    "scrolled": true
   },
   "outputs": [
    {
     "data": {
      "text/plain": [
       "(array([8.2580e+03, 0.0000e+00, 0.0000e+00, 0.0000e+00, 0.0000e+00,\n",
       "        2.5035e+04, 0.0000e+00, 3.0000e+00, 0.0000e+00, 1.6705e+04]),\n",
       " array([0. , 0.4, 0.8, 1.2, 1.6, 2. , 2.4, 2.8, 3.2, 3.6, 4. ]),\n",
       " <BarContainer object of 10 artists>)"
      ]
     },
     "execution_count": 26,
     "metadata": {},
     "output_type": "execute_result"
    },
    {
     "data": {
      "image/png": "[encoded data removed]",
      "text/plain": [
       "<Figure size 432x288 with 1 Axes>"
      ]
     },
     "metadata": {
      "needs_background": "light"
     },
     "output_type": "display_data"
    }
   ],
   "source": [
    "M1 = np.array([[1/2,0,1/4,0,1/4],[0,1/2,0,1/2,0],[0,0,3/4,0,1/4],[0,1/4,1/4,1/4,1/4],[1/4,0,1/4,0,1/2]])\n",
    "initial_state = 3\n",
    "s_markov1 = n_iterate_markov(M1, initial_state, 50000)\n",
    "plt.hist(s_markov1)"
   ]
  },
  {
   "cell_type": "code",
   "execution_count": 27,
   "metadata": {},
   "outputs": [],
   "source": [
    "def get_proba(s,M):\n",
    "    size = len(M)\n",
    "    tot = len(s)\n",
    "    res = [0]*size\n",
    "    for el in s:\n",
    "        res[el] += 1\n",
    "    for i in range(size):\n",
    "        res[i] = res[i]/tot\n",
    "    return res"
   ]
  },
  {
   "cell_type": "code",
   "execution_count": 28,
   "metadata": {},
   "outputs": [
    {
     "data": {
      "text/plain": [
       "[0.16515669686606269,\n",
       " 0.0,\n",
       " 0.500689986200276,\n",
       " 5.999880002399952e-05,\n",
       " 0.33409331813363735]"
      ]
     },
     "execution_count": 28,
     "metadata": {},
     "output_type": "execute_result"
    }
   ],
   "source": [
    "pi1 = get_proba(s_markov1, M1)\n",
    "pi1"
   ]
  },
  {
   "cell_type": "markdown",
   "metadata": {},
   "source": [
    "> **To sum up : If there is an invariant distribution. And if the chain is irreducible and aperiodic : it will converge to that invariant distribution.**"
   ]
  },
  {
   "cell_type": "markdown",
   "metadata": {},
   "source": [
    "##### Reversibility implies invariance"
   ]
  },
  {
   "cell_type": "markdown",
   "metadata": {},
   "source": [
    "Another notion is important. A distribution could be reversible for a Markov chain. It means :\n",
    "- $\\pi(i)P_{i,j}=\\pi(j)P_{j,i}$ in the discrete case\n",
    "- $\\pi(x)p(x,y)=\\pi(y)p(y,x)$ in the continuous case\n",
    "The reversibility implies the invariance. \n",
    "\n",
    "Let's verify the reversibility for M1. "
   ]
  },
  {
   "cell_type": "code",
   "execution_count": 29,
   "metadata": {},
   "outputs": [],
   "source": [
    "def verify_reversibility(M, pi):\n",
    "    l = len(M)\n",
    "    res = M.copy()\n",
    "    for i in range(l):\n",
    "        for j in range(l):\n",
    "            res[i,j] = pi[i]*M[i,j]-pi[j]*M[j,i]\n",
    "    return res"
   ]
  },
  {
   "cell_type": "code",
   "execution_count": 30,
   "metadata": {},
   "outputs": [
    {
     "data": {
      "text/plain": [
       "array([[ 0.00000000e+00,  0.00000000e+00,  4.12891742e-02,\n",
       "         0.00000000e+00, -4.22341553e-02],\n",
       "       [ 0.00000000e+00,  0.00000000e+00,  0.00000000e+00,\n",
       "        -1.49997000e-05,  0.00000000e+00],\n",
       "       [-4.12891742e-02,  0.00000000e+00,  0.00000000e+00,\n",
       "        -1.49997000e-05,  4.16491670e-02],\n",
       "       [ 0.00000000e+00,  1.49997000e-05,  1.49997000e-05,\n",
       "         0.00000000e+00,  1.49997000e-05],\n",
       "       [ 4.22341553e-02,  0.00000000e+00, -4.16491670e-02,\n",
       "        -1.49997000e-05,  0.00000000e+00]])"
      ]
     },
     "execution_count": 30,
     "metadata": {},
     "output_type": "execute_result"
    }
   ],
   "source": [
    "res1 = verify_reversibility(M1, pi1)\n",
    "res1"
   ]
  },
  {
   "cell_type": "markdown",
   "metadata": {},
   "source": [
    "We can see that in this case, the Markov chain has a distribution that is stationary but not reversible. Let's consider :\n",
    "\n",
    "$$\n",
    "M_2=\\left(\\begin{array}{cccc}\n",
    "0 & \\frac{1}{2} & \\frac{1}{2} & 0  \\\\\n",
    "\\frac{1}{2} & 0 & \\frac{1}{2} & 0 \\\\\n",
    "\\frac{1}{3} & \\frac{1}{3} & 0 &\\frac{1}{3}  \\\\\n",
    "0 & 0 & 1 & 0 \\\\\n",
    "\\end{array}\\right)\n",
    "$$\n",
    "\n",
    "It is reversible and thus stationnary."
   ]
  },
  {
   "cell_type": "code",
   "execution_count": 31,
   "metadata": {},
   "outputs": [
    {
     "data": {
      "text/plain": [
       "(array([12456.,     0.,     0., 12349.,     0.,     0., 18803.,     0.,\n",
       "            0.,  6393.]),\n",
       " array([0. , 0.3, 0.6, 0.9, 1.2, 1.5, 1.8, 2.1, 2.4, 2.7, 3. ]),\n",
       " <BarContainer object of 10 artists>)"
      ]
     },
     "execution_count": 31,
     "metadata": {},
     "output_type": "execute_result"
    },
    {
     "data": {
      "image/png": "[encoded data removed]",
      "text/plain": [
       "<Figure size 432x288 with 1 Axes>"
      ]
     },
     "metadata": {
      "needs_background": "light"
     },
     "output_type": "display_data"
    }
   ],
   "source": [
    "M2 = np.array([[0,1/2,1/2,0],[1/2,0,1/2,0],[1/3,1/3,0,1/3],[0,0,1,0]])\n",
    "initial_state = 2\n",
    "s_markov2 = n_iterate_markov(M2, initial_state, 50000)\n",
    "plt.hist(s_markov2)"
   ]
  },
  {
   "cell_type": "code",
   "execution_count": 44,
   "metadata": {},
   "outputs": [
    {
     "data": {
      "text/plain": [
       "[0.249115017699646,\n",
       " 0.24697506049879003,\n",
       " 0.376052478950421,\n",
       " 0.12785744285114298]"
      ]
     },
     "execution_count": 44,
     "metadata": {},
     "output_type": "execute_result"
    }
   ],
   "source": [
    "pi2 = get_proba(s_markov2, M2)\n",
    "pi2"
   ]
  },
  {
   "cell_type": "code",
   "execution_count": 45,
   "metadata": {},
   "outputs": [
    {
     "data": {
      "text/plain": [
       "array([[0., 0., 0., 0.],\n",
       "       [0., 0., 0., 0.],\n",
       "       [0., 0., 0., 0.],\n",
       "       [0., 0., 0., 0.]])"
      ]
     },
     "execution_count": 45,
     "metadata": {},
     "output_type": "execute_result"
    }
   ],
   "source": [
    "pi2 = [1/4,1/4,3/8,1/8] # we round up the values of pi2\n",
    "res2 = verify_reversibility(M2, pi2)\n",
    "res2"
   ]
  },
  {
   "cell_type": "markdown",
   "metadata": {},
   "source": [
    ">**Reversibility implies invariance.**"
   ]
  },
  {
   "cell_type": "markdown",
   "metadata": {},
   "source": [
    "#### Markov chain Monte-Carlo with Metropolis-Hastings"
   ]
  },
  {
   "cell_type": "markdown",
   "metadata": {},
   "source": [
    "The idea of MCMC is to use a kernel function p(x,y) such that it is reversible with the $\\pi$ we want to simulate.Then is will converge to $\\pi$. It inspired of the A/R method because :\n",
    "- you choose a transition kernel\n",
    "- at each transition you accept or reject the transition with a certain probability to verifiy th e reversibility condition.\n",
    "\n",
    "Say that we want to draw samples from $\\pi(x)$.\n",
    "Given a candidate transition kernel q(x,y), we will have either $\\pi(x)q(x,y)>\\pi(y)q(y,x)$ or $\\pi(x)q(x,y)<\\pi(y)q(y,x)$. The majority of the time the reversibility is not verified. But we can correct that by computing each time a probability $\\alpha(x,y)$ to stay at the same state. So in practice we are going to use the kernel density : p(x,y) = q(x,y)$\\alpha(x,y)$.\n",
    "\n",
    "The question is : how to obtain  $\\pi(x)q(x,y)\\alpha(x,y)=\\pi(y)q(y,x)\\alpha(y,x)$ ?\n",
    "\n",
    "Let's consider the two cases :\n",
    "- We have $\\pi(x)q(x,y)>\\pi(y)q(y,x)$. Our goal is to make the probability to transition smaller. So we can choose $\\alpha(y,x)=1$ and $\\alpha(x,y)=\\pi(y)q(y,x)/\\pi(x)q(x,y)$.\n",
    "- We have $\\pi(x)q(x,y)<\\pi(y)q(y,x)$. Our goal is to make the probability to transition bigger. So we can choose $\\alpha(x,y)=1$. Since $\\alpha(y,x)$ will be computed in the same way, we will have the reversibility. \n",
    "\n",
    "We can resume the choise of $\\alpha(x,y)$ by :\n",
    "\n",
    "$$\n",
    "\\begin{aligned}\n",
    "\\alpha(x, y) &=\\min \\left[\\frac{\\pi(y) q(y, x)}{\\pi(x) q(x, y)}, 1\\right], & & \\text { if } \\pi(x) q(x, y)>0 \\\\\n",
    "&=1, & & \\text { otherwise. }\n",
    "\\end{aligned}\n",
    "$$\n",
    "\n",
    "Some additional remarks about the process to understand:\n",
    "- The probability to make the move $\\alpha(x,y)$ is calculated after drawing a from the candidate density q(x,y)\n",
    "- In practice this probability to move is simulated by simply comparing a draw from a uniform distribution with the vaue of $\\alpha(x,y)$. If it is inferior to the draw, we make the move. \n",
    "- If the draw indicates that we do not do the move, the next sample is x (we stay at the same state). And then we can redraw from the candidate density and repeat.\n",
    "- The choice of the candidate density could be arbitrary but some choices have advantages like choosing a symmetric distribution. In this case : q(x,y)=q(y,x). And so the probability of move $\\alpha(x,y)$ is simply $\\pi(y)/\\pi(x)$."
   ]
  },
  {
   "cell_type": "code",
   "execution_count": 208,
   "metadata": {},
   "outputs": [],
   "source": [
    "def metropolis(pi, q, draw_from_q, initial_sample, n):\n",
    "    x = initial_sample\n",
    "    res = [x]\n",
    "    rejected = 0\n",
    "    for i in range(n):\n",
    "        y = draw_from_q(x)\n",
    "        div = (pi(x)*q(x,y))\n",
    "        if div == 0:\n",
    "            alpha = 1\n",
    "        else:\n",
    "            alpha = min((pi(y)*q(y,x))/div,1)\n",
    "        u = uniform.rvs()\n",
    "        if u<=alpha:\n",
    "            x = y\n",
    "        else:\n",
    "            rejected +=1\n",
    "        res+= [x]\n",
    "    print('rejected : {}'.format(rejected))\n",
    "    acceptance_rate = 1-(rejected/n)\n",
    "    print('acceptance_rate : {}'.format(acceptance_rate))\n",
    "    return res,acceptance_rate"
   ]
  },
  {
   "cell_type": "markdown",
   "metadata": {},
   "source": [
    "In this example, we are going to assume we know how to draw samples from an multivariate distribution with a diagonal covariance (independance of the covariates and thus it only consists in sampling from two normal distributions in 2D). "
   ]
  },
  {
   "cell_type": "code",
   "execution_count": 196,
   "metadata": {},
   "outputs": [],
   "source": [
    "def pi(x):\n",
    "    return multivariate_normal.pdf(x, mean=[1,2], cov=[[1,0.9],[0.9,1]])\n",
    "    \n",
    "def q(x,y):\n",
    "    return multivariate_normal.pdf(x-y, mean=[0,0], cov=[[1,0],[0,1]])\n",
    "\n",
    "def draw_from_q(x):\n",
    "    return x+multivariate_normal.rvs(mean=[0,0], cov=[[1,0],[0,1]])"
   ]
  },
  {
   "cell_type": "code",
   "execution_count": 197,
   "metadata": {},
   "outputs": [
    {
     "data": {
      "text/plain": [
       "17.157570123672485"
      ]
     },
     "execution_count": 197,
     "metadata": {},
     "output_type": "execute_result"
    }
   ],
   "source": [
    "t = time.time()\n",
    "res,acceptance_rate = metropolis(pi, q, draw_from_q, [0,0],50000)\n",
    "time.time()-t"
   ]
  },
  {
   "cell_type": "code",
   "execution_count": 198,
   "metadata": {},
   "outputs": [
    {
     "data": {
      "text/plain": [
       "0.3144"
      ]
     },
     "execution_count": 198,
     "metadata": {},
     "output_type": "execute_result"
    }
   ],
   "source": [
    "acceptance_rate "
   ]
  },
  {
   "cell_type": "markdown",
   "metadata": {},
   "source": [
    "A good acceptance rate is typically 23%, if it is too high, it means that the chain could me more efficient.\n",
    "If it is too low, you should increase the variance of your transition kernel to explore the space. "
   ]
  },
  {
   "cell_type": "code",
   "execution_count": 175,
   "metadata": {},
   "outputs": [
    {
     "data": {
      "text/plain": [
       "[<matplotlib.lines.Line2D at 0x2402c9ab190>]"
      ]
     },
     "execution_count": 175,
     "metadata": {},
     "output_type": "execute_result"
    },
    {
     "data": {
      "image/png": "[encoded data removed]",
      "text/plain": [
       "<Figure size 432x288 with 1 Axes>"
      ]
     },
     "metadata": {
      "needs_background": "light"
     },
     "output_type": "display_data"
    }
   ],
   "source": [
    "plt.plot(res[:,0])"
   ]
  },
  {
   "cell_type": "code",
   "execution_count": 176,
   "metadata": {},
   "outputs": [
    {
     "data": {
      "image/png": "[encoded data removed]",
      "text/plain": [
       "<Figure size 432x288 with 1 Axes>"
      ]
     },
     "metadata": {
      "needs_background": "light"
     },
     "output_type": "display_data"
    }
   ],
   "source": [
    "res = np.array(res)\n",
    "plot = plt.hist2d(res[:,0],res[:,1],bins=50)"
   ]
  },
  {
   "cell_type": "markdown",
   "metadata": {},
   "source": [
    "To realize what were the advantages of MCMC, let's compare with the same algorithm but using A-R. We are going to assume, like for the MCMC,that we can draw samples from an multivarite with independant variates. The challenge here, that we did not have to care about with MCMC is to find the dominance constant c. It is not straightforward to find it. We should find the maximum of the ratio of two multivariate laws. It could be possible but we will not do it here. "
   ]
  },
  {
   "cell_type": "markdown",
   "metadata": {},
   "source": [
    "### 4. MCMC for Bayesian Inference\n",
    "\n",
    "Like said in the part on bayesian inference. We need a sampling strategy because computing the posterior is not feasible in the case of the simultaneous estimation of several parameters. A-R is not adapted to this case because it is hard to find the dominance of a posterior distribution whose expression is very complex (the calculus of the likelihood results in a product that is the size of the data). \n",
    "\n",
    "#### On the example of heights\n",
    "\n",
    "This example has been applied naively without MCMC in the part that concerns bayesian inference. The candidate transition kernel has to be two dimensional, so will choose a multivariate with variance (5,1) truncated for the sigma to avoid sampling negative sigmas and we will begin our walk at (100, 11). Note that it is a bad start and we will have to let our MCMC converge.  "
   ]
  },
  {
   "cell_type": "code",
   "execution_count": 177,
   "metadata": {},
   "outputs": [
    {
     "name": "stdout",
     "output_type": "stream",
     "text": [
      "8.238154586056801\n",
      "10.559714481855604\n",
      "9.03186866058273\n",
      "9.033027377668212\n",
      "11.160100319065744\n"
     ]
    }
   ],
   "source": [
    "# We are going to use a truncated normal law to transition for sigma because sigma cannot be less than 2 and more than 12.\n",
    "# This is used only for sigma as sigma must be positive\n",
    "# We could use a truncated transition for the mean as well but we are lazy. \n",
    "\n",
    "for i in range(5):\n",
    "    print(truncnorm.rvs(loc=11, scale=2,a=a,b=b))"
   ]
  },
  {
   "cell_type": "code",
   "execution_count": 223,
   "metadata": {},
   "outputs": [
    {
     "name": "stdout",
     "output_type": "stream",
     "text": [
      "rejected : 6448\n",
      "acceptance_rate : 0.35519999999999996\n"
     ]
    },
    {
     "data": {
      "text/plain": [
       "7.543943643569946"
      ]
     },
     "execution_count": 223,
     "metadata": {},
     "output_type": "execute_result"
    }
   ],
   "source": [
    "data_h = np.array([183, 168, 177, 170, 175, 177, 178, 166, 174, 178])\n",
    "\n",
    "def get_posterior(theta, data_h, prior, likelihood):\n",
    "    posterior = prior(theta)\n",
    "    likelihoods = likelihood(data_h, theta)\n",
    "    for i in range(len(data_h)):\n",
    "        posterior = likelihoods[i]*posterior\n",
    "    return posterior\n",
    "    \n",
    "def prior2(theta):\n",
    "    return norm.pdf(theta[0],loc=165,scale=14)*uniform.pdf(theta[1],loc=2,scale=12)\n",
    "\n",
    "def likelihood2(h, theta):\n",
    "    return norm.pdf(h,loc=theta[0],scale=theta[1])\n",
    "\n",
    "def pi2(theta):\n",
    "    return get_posterior(theta, data_h, prior2, likelihood2)\n",
    "\n",
    "\n",
    "def get_bounds(clip_a, clip_b, mean, std):\n",
    "    return (clip_a - mean) / std, (clip_b - mean) / std\n",
    "\n",
    "def q2(theta1,theta2):\n",
    "    a,b=get_bounds(2,12,theta1[1],1)\n",
    "    return norm.pdf(theta1[0]-theta2[0], loc=0, scale=5)*truncnorm.pdf(theta2[1], loc=theta1[1], scale=1,a=a,b=b)\n",
    "\n",
    "def draw_from_q2(theta):\n",
    "    theta0 = theta[0] + norm.rvs(loc=0, scale=5)\n",
    "    a,b=get_bounds(2,12,theta[1],1)\n",
    "    theta1 = truncnorm.rvs(loc=theta[1], scale=1,a=a,b=b) \n",
    "    return np.array([theta0, theta1])\n",
    "\n",
    "t = time.time()\n",
    "res2, ar2 = metropolis(pi2, q2, draw_from_q2, np.array([100,11]),10000)\n",
    "time.time()-t"
   ]
  },
  {
   "cell_type": "code",
   "execution_count": 224,
   "metadata": {},
   "outputs": [
    {
     "data": {
      "text/plain": [
       "0.35519999999999996"
      ]
     },
     "execution_count": 224,
     "metadata": {},
     "output_type": "execute_result"
    }
   ],
   "source": [
    "ar2"
   ]
  },
  {
   "cell_type": "code",
   "execution_count": 225,
   "metadata": {
    "scrolled": true
   },
   "outputs": [
    {
     "data": {
      "text/plain": [
       "[<matplotlib.lines.Line2D at 0x2402ccc1e50>]"
      ]
     },
     "execution_count": 225,
     "metadata": {},
     "output_type": "execute_result"
    },
    {
     "data": {
      "image/png": "[encoded data removed]",
      "text/plain": [
       "<Figure size 432x288 with 1 Axes>"
      ]
     },
     "metadata": {
      "needs_background": "light"
     },
     "output_type": "display_data"
    }
   ],
   "source": [
    "res2 = np.array(res2)\n",
    "plt.plot(res2[:,0])"
   ]
  },
  {
   "cell_type": "markdown",
   "metadata": {},
   "source": [
    "We can see that the chains seems to stabilize at 1000. We can burn the first 1000 samples."
   ]
  },
  {
   "cell_type": "code",
   "execution_count": 226,
   "metadata": {},
   "outputs": [
    {
     "data": {
      "image/png": "[encoded data removed]",
      "text/plain": [
       "<Figure size 432x288 with 1 Axes>"
      ]
     },
     "metadata": {
      "needs_background": "light"
     },
     "output_type": "display_data"
    }
   ],
   "source": [
    "plot = plt.hist2d(res2[1000:,0],res2[1000:,1],bins=40)"
   ]
  },
  {
   "cell_type": "code",
   "execution_count": 203,
   "metadata": {},
   "outputs": [
    {
     "name": "stdout",
     "output_type": "stream",
     "text": [
      "mu_mean = 174.37747908756984\n",
      "sigma_mean = 6.166015526950849\n"
     ]
    }
   ],
   "source": [
    "print('mu_mean = {}'.format(np.mean(res2[1000:,0])))\n",
    "print('sigma_mean = {}'.format(np.mean(res2[1000:,1])))"
   ]
  },
  {
   "cell_type": "markdown",
   "metadata": {},
   "source": [
    "The advantage over the evaluation of the posterior is not clear here. What we can see is that the sampling does not make necessary the choice of the resolution and the size of the grid a variable, we only have to choose how much samples to burn. The advantage is clear in the case for higher dimensions and in cases where the choice of resolutions and size of the grid is difficult. \n",
    "\n",
    "Two notes : \n",
    "- In this case the choice to evaluate the values of the posterior (grid method) is feasible and thus it has the advantage to yield the true values of the posterior directly (values that are proportional to the true posterior). The MCMC only converges to the distribution. \n",
    "- But an advantage of MCMC is that if we want to have a better representation, we only have to make more samples whereas with the evaluation of the posterior we would have calculate everything from the begining or make a grid pattern exploration that allows an incremental augmentation of the resolution. "
   ]
  },
  {
   "cell_type": "markdown",
   "metadata": {},
   "source": [
    "##### Influence of the kernel of transition\n",
    "\n",
    "We are going to choose a worst transition kernel (with more rejections) to see the effect. We are going to choose uniform transitions. As a remark, this also shows that a transition kernel q(x,y) could choosen so that it is independent from x : q(x,y)=h(y). The main difference will be the acceptance rate. A good acceptance rate is typically 23%, if it is too high, it means that the chain could me more efficient.\n",
    "If it is too low, you should increase the variance of your transition kernel to explore the space. \n",
    "\n",
    "In our case, the acceptance rate it too low and thus many samples are rejected (in fact you stay at the same place). It means that we are not going to explore the space as rapidly as we could hope for. In both case, a low or high acceptance rate, it seems that it does not favor a good exploration of the space. "
   ]
  },
  {
   "cell_type": "code",
   "execution_count": 227,
   "metadata": {},
   "outputs": [
    {
     "name": "stdout",
     "output_type": "stream",
     "text": [
      "rejected : 9403\n",
      "acceptance_rate : 0.059699999999999975\n"
     ]
    },
    {
     "data": {
      "text/plain": [
       "6.104666233062744"
      ]
     },
     "execution_count": 227,
     "metadata": {},
     "output_type": "execute_result"
    }
   ],
   "source": [
    "data_h = np.array([183, 168, 177, 170, 175, 177, 178, 166, 174, 178])\n",
    "\n",
    "def get_posterior(theta, data_h, prior, likelihood):\n",
    "    posterior = prior(theta)\n",
    "    likelihoods = likelihood(data_h, theta)\n",
    "    for i in range(len(data_h)):\n",
    "        posterior = likelihoods[i]*posterior\n",
    "    return posterior\n",
    "    \n",
    "def prior2(theta):\n",
    "    return norm.pdf(theta[0],loc=165,scale=14)*uniform.pdf(theta[1],loc=2,scale=12)\n",
    "\n",
    "def likelihood2(h, theta):\n",
    "    return norm.pdf(h,loc=theta[0],scale=theta[1])\n",
    "\n",
    "def pi2(theta):\n",
    "    return get_posterior(theta, data_h, prior2, likelihood2)\n",
    "\n",
    "\n",
    "def get_bounds(clip_a, clip_b, mean, std):\n",
    "    return (clip_a - mean) / std, (clip_b - mean) / std\n",
    "\n",
    "def q2(theta1,theta2):\n",
    "    return prior2(theta2)\n",
    "\n",
    "def draw_from_q2(theta):\n",
    "    theta0 = norm.rvs(loc=165,scale=14)\n",
    "    theta1 = uniform.rvs(loc=2,scale=12)\n",
    "    return np.array([theta0, theta1])\n",
    "\n",
    "t = time.time()\n",
    "res2, ar2 = metropolis(pi2, q2, draw_from_q2, np.array([100,11]),10000)\n",
    "time.time()-t"
   ]
  },
  {
   "cell_type": "code",
   "execution_count": 228,
   "metadata": {},
   "outputs": [
    {
     "data": {
      "text/plain": [
       "0.059699999999999975"
      ]
     },
     "execution_count": 228,
     "metadata": {},
     "output_type": "execute_result"
    }
   ],
   "source": [
    "ar2"
   ]
  },
  {
   "cell_type": "code",
   "execution_count": 229,
   "metadata": {},
   "outputs": [
    {
     "data": {
      "text/plain": [
       "[<matplotlib.lines.Line2D at 0x2402cd685e0>]"
      ]
     },
     "execution_count": 229,
     "metadata": {},
     "output_type": "execute_result"
    },
    {
     "data": {
      "image/png": "[encoded data removed]",
      "text/plain": [
       "<Figure size 432x288 with 1 Axes>"
      ]
     },
     "metadata": {
      "needs_background": "light"
     },
     "output_type": "display_data"
    }
   ],
   "source": [
    "res2 = np.array(res2)\n",
    "plt.plot(res2[:,1])"
   ]
  },
  {
   "cell_type": "code",
   "execution_count": 230,
   "metadata": {},
   "outputs": [
    {
     "data": {
      "image/png": "[encoded data removed]",
      "text/plain": [
       "<Figure size 432x288 with 1 Axes>"
      ]
     },
     "metadata": {
      "needs_background": "light"
     },
     "output_type": "display_data"
    }
   ],
   "source": [
    "plot = plt.hist2d(res2[1000:,0],res2[1000:,1],bins=40)"
   ]
  },
  {
   "cell_type": "code",
   "execution_count": 231,
   "metadata": {},
   "outputs": [
    {
     "name": "stdout",
     "output_type": "stream",
     "text": [
      "mu_mean = 174.59163450346975\n",
      "sigma_mean = 5.868186782422386\n"
     ]
    }
   ],
   "source": [
    "print('mu_mean = {}'.format(np.mean(res2[1000:,0])))\n",
    "print('sigma_mean = {}'.format(np.mean(res2[1000:,1])))"
   ]
  },
  {
   "cell_type": "markdown",
   "metadata": {},
   "source": [
    "#### On another a more complex example"
   ]
  },
  {
   "cell_type": "markdown",
   "metadata": {},
   "source": [
    "We have observations of the model : $y_{t}=\\phi_{1} y_{t-1}+\\phi_{2} y_{t-2}+\\epsilon_{t}$. Where \n",
    "- $\\phi_{1}=1$\n",
    "- $\\phi_{2}=-0.5$\n",
    "- $\\epsilon_{t} \\sim N(0,\\sigma)$ with $\\sigma=1$\n",
    "\n",
    "The goal is to find the values of $\\theta = (\\sigma,\\phi_1, \\phi_2)$ that are supposed to be unknown. \n",
    "\n",
    "The process is stationnary (see courses about auto-regressive processes), it means that the expected value and the covariance are not time depedent.\n",
    "In stationnary conditions we have that $(y1,y2)\\sim N(0,V(\\theta))$. Then for the rest of the $y_i$, the follow a normal law with mean $\\phi_{1} y_{t-1}+\\phi_{2} y_{t-2}$ and variance $\\sigma$.\n",
    "\n",
    "We have the likelihood : $P(y \\mid \\theta) = \\prod_{i=3}^{i=n} P(y_i \\mid \\theta, [y_1,y_{i-1}]) \\times P(y1,y2 \\mid \\theta)=\\prod_{i=3}^{i=n} P(y_i \\mid \\theta, y_{i-2},y_{i-1}) \\times P(y1,y2 \\mid \\theta)$ because $y_{i}$ does not depends on $y_k$ with k<i-2. To have the expression of the likelihood like this see : \"Understanding the Metropolis-Hastings Algorithm\" by Siddhartha CHIBand Edward GREENBERG\". \n",
    "\n",
    "But to simplify we are going to consider that we know y1 and y2 and that we do not necessarly start when the system is stable. We are going to fix y1=1 and y2=0. And so our likelihood function will simply be : $P(y \\mid \\theta) = \\prod_{i=3}^{i=n} P(y_i \\mid \\theta, y_{i-2},y_{i-1}) $. We still know that we have stationnarity conditions respected so, a classical resutls for autoregressive models is that :\n",
    "\n",
    "$$\n",
    "\\phi_{1}+\\phi_{2}<1 ; \\quad-\\phi_{1}+\\phi_{2}<1 ; \\quad \\phi_{2}>-1\n",
    "$$\n",
    "\n",
    "That gives the conditions $\\phi_{1} \\in [-2;2]$ and  $\\phi_{2} \\in [-1;1]$"
   ]
  },
  {
   "cell_type": "markdown",
   "metadata": {},
   "source": [
    "We are going to choose as priors : \n",
    "- U[0,10] for $\\sigma$\n",
    "- $\\phi_1$ and $\\phi_2$ are sampled uniformally on the set of possible values that respects the stationnarity conditions. \n",
    "\n",
    "We are going to choose as candidate transition kernels truncated random walks on [0,10] , [-2,2] and [-1,1]. This may not be the best candidate kernels."
   ]
  },
  {
   "cell_type": "code",
   "execution_count": 259,
   "metadata": {},
   "outputs": [],
   "source": [
    "# Let's generate the observations\n",
    "\n",
    "def generate_observations(n=100, y0=1, y1=1):\n",
    "    res = [y0,y1]\n",
    "    yt1 = y1\n",
    "    yt2 = y0\n",
    "    for i in range(n):\n",
    "        noise = norm.rvs(scale=1)\n",
    "        yt = yt1-0.5*yt2+noise\n",
    "        res += [yt]\n",
    "        yt2 = yt1\n",
    "        yt1 = yt\n",
    "    return res"
   ]
  },
  {
   "cell_type": "code",
   "execution_count": 260,
   "metadata": {
    "scrolled": true
   },
   "outputs": [
    {
     "data": {
      "text/plain": [
       "[<matplotlib.lines.Line2D at 0x2402c9b1a60>]"
      ]
     },
     "execution_count": 260,
     "metadata": {},
     "output_type": "execute_result"
    },
    {
     "data": {
      "image/png": "[encoded data removed]",
      "text/plain": [
       "<Figure size 432x288 with 1 Axes>"
      ]
     },
     "metadata": {
      "needs_background": "light"
     },
     "output_type": "display_data"
    }
   ],
   "source": [
    "obs = generate_observations()\n",
    "plt.plot(obs)"
   ]
  },
  {
   "cell_type": "markdown",
   "metadata": {},
   "source": [
    "The likelihood"
   ]
  },
  {
   "cell_type": "code",
   "execution_count": 293,
   "metadata": {},
   "outputs": [
    {
     "name": "stdout",
     "output_type": "stream",
     "text": [
      "rejected : 8234\n",
      "acceptance_rate : 0.17659999999999998\n"
     ]
    },
    {
     "data": {
      "text/plain": [
       "125.5704653263092"
      ]
     },
     "execution_count": 293,
     "metadata": {},
     "output_type": "execute_result"
    }
   ],
   "source": [
    "def get_posterior(theta, data_h, prior, likelihood):\n",
    "    posterior = prior(theta)\n",
    "    likelihood = likelihood(data_h, theta)\n",
    "    return posterior*likelihood\n",
    "    \n",
    "def prior3(theta):\n",
    "    if theta[1] + theta[2]>=1:\n",
    "        return 0\n",
    "    elif theta[2] - theta[1]>=1:\n",
    "        return 0\n",
    "    elif theta[2]<=-1:\n",
    "        return 0\n",
    "    else:\n",
    "        return 1 \n",
    "\n",
    "def likelihood3(h, theta):\n",
    "    l = len(h)\n",
    "    h = [1,0]+h\n",
    "    res = 1\n",
    "    for i in range(l):\n",
    "        mean = theta[1]*h[i+1]+theta[2]*h[i]\n",
    "        res*=norm.pdf(h[i+2],loc=mean,scale=theta[0])\n",
    "    return res\n",
    "\n",
    "def pi3(theta):\n",
    "    return get_posterior(theta, obs, prior3, likelihood3)\n",
    "\n",
    "def get_bounds(clip_a, clip_b, mean, std):\n",
    "    return (clip_a - mean) / std, (clip_b - mean) / std\n",
    "\n",
    "a_l = np.array([0,-2,-1])\n",
    "b_l = np.array([10,2,1])\n",
    "scales = np.array([0.25,0.1,0.1])\n",
    "\n",
    "def q3(theta1,theta2):\n",
    "    a,b = get_bounds(a_l, b_l, theta1, scales)\n",
    "    p0 = truncnorm.pdf(theta2[0],loc=theta1[0], scale=scales[0],a=a[0],b=b[0])\n",
    "    p1 = truncnorm.pdf(theta2[1],loc=theta1[1], scale=scales[1],a=a[1],b=b[1])\n",
    "    p2 = truncnorm.pdf(theta2[2],loc=theta1[2], scale=scales[2],a=a[2],b=b[2])\n",
    "    return p0*p1*p2\n",
    "\n",
    "def draw_from_q3(theta):\n",
    "    a,b = get_bounds(a_l, b_l, theta, scales)\n",
    "    theta0 = truncnorm.rvs(loc=theta[0], scale=scales[0],a=a[0],b=b[0])\n",
    "    theta1 = truncnorm.rvs(loc=theta[1], scale=scales[1],a=a[1],b=b[1])\n",
    "    theta2 = truncnorm.rvs(loc=theta[2], scale=scales[2],a=a[2],b=b[2])\n",
    "    return np.array([theta0,theta1,theta2])\n",
    "\n",
    "t = time.time()\n",
    "res3, ar3 = metropolis(pi3, q3, draw_from_q3, np.array([5,0,0]),10000)\n",
    "time.time()-t"
   ]
  },
  {
   "cell_type": "code",
   "execution_count": 302,
   "metadata": {},
   "outputs": [
    {
     "data": {
      "text/plain": [
       "[<matplotlib.lines.Line2D at 0x24033f1c3d0>]"
      ]
     },
     "execution_count": 302,
     "metadata": {},
     "output_type": "execute_result"
    },
    {
     "data": {
      "image/png": "[encoded data removed]",
      "text/plain": [
       "<Figure size 432x288 with 1 Axes>"
      ]
     },
     "metadata": {
      "needs_background": "light"
     },
     "output_type": "display_data"
    }
   ],
   "source": [
    "res3 = np.array(res3)\n",
    "plt.plot(res3[:,0])"
   ]
  },
  {
   "cell_type": "code",
   "execution_count": 300,
   "metadata": {},
   "outputs": [
    {
     "data": {
      "image/png": "[encoded data removed]",
      "text/plain": [
       "<Figure size 432x288 with 1 Axes>"
      ]
     },
     "metadata": {
      "needs_background": "light"
     },
     "output_type": "display_data"
    }
   ],
   "source": [
    "plot = plt.hist2d(res3[250:,0],res3[250:,1],bins=40)"
   ]
  },
  {
   "cell_type": "code",
   "execution_count": 296,
   "metadata": {},
   "outputs": [
    {
     "data": {
      "image/png": "[encoded data removed]",
      "text/plain": [
       "<Figure size 432x288 with 1 Axes>"
      ]
     },
     "metadata": {
      "needs_background": "light"
     },
     "output_type": "display_data"
    }
   ],
   "source": [
    "plot = plt.hist2d(res3[250:,0],res3[250:,2],bins=40)"
   ]
  },
  {
   "cell_type": "code",
   "execution_count": 303,
   "metadata": {},
   "outputs": [
    {
     "name": "stdout",
     "output_type": "stream",
     "text": [
      "sigma_mean = 0.9925867051366783\n",
      "phi1_mean = 0.9353596745941084\n",
      "phi2_mean = -0.4289829676081113\n"
     ]
    }
   ],
   "source": [
    "print('sigma_mean = {}'.format(np.mean(res3[250:,0])))\n",
    "print('phi1_mean = {}'.format(np.mean(res3[250:,1])))\n",
    "print('phi2_mean = {}'.format(np.mean(res3[250:,2])))"
   ]
  },
  {
   "cell_type": "code",
   "execution_count": 304,
   "metadata": {},
   "outputs": [
    {
     "name": "stdout",
     "output_type": "stream",
     "text": [
      "sigma_std = 0.07061722727497839\n",
      "phi1_std = 0.09657201146467626\n",
      "phi2_std = 0.09573109510333318\n"
     ]
    }
   ],
   "source": [
    "print('sigma_std = {}'.format(np.std(res3[250:,0])))\n",
    "print('phi1_std = {}'.format(np.std(res3[250:,1])))\n",
    "print('phi2_std = {}'.format(np.std(res3[250:,2])))"
   ]
  },
  {
   "cell_type": "code",
   "execution_count": null,
   "metadata": {},
   "outputs": [],
   "source": []
  }
 ],
 "metadata": {
  "kernelspec": {
   "display_name": "Python 3 (ipykernel)",
   "language": "python",
   "name": "python3"
  },
  "language_info": {
   "codemirror_mode": {
    "name": "ipython",
    "version": 3
   },
   "file_extension": ".py",
   "mimetype": "text/x-python",
   "name": "python",
   "nbconvert_exporter": "python",
   "pygments_lexer": "ipython3",
   "version": "3.9.7"
  }
 },
 "nbformat": 4,
 "nbformat_minor": 4
}
